{
 "cells": [
  {
   "cell_type": "code",
   "execution_count": 1,
   "id": "d15a6ebc",
   "metadata": {},
   "outputs": [],
   "source": [
    "import numpy as np\n",
    "import matplotlib.pyplot as plt\n",
    "import cmocean as cmo\n",
    "import datetime\n",
    "import xarray as xr\n",
    "import os\n",
    "import matplotlib.colors as mcolors\n",
    "import cmocean as cmo\n",
    "import pandas as pd\n",
    "import matplotlib.dates as mdates\n",
    "import geopandas as gpd\n",
    "\n",
    "import process_modis as process"
   ]
  },
  {
   "cell_type": "code",
   "execution_count": 2,
   "id": "6c2a8b57",
   "metadata": {},
   "outputs": [
    {
     "name": "stderr",
     "output_type": "stream",
     "text": [
      "\n",
      "Bad key axes3d.xaxis.panecolor in file ccic_climate_record_analysis/ccic.mplstyle, line 306 ('axes3d.xaxis.panecolor:    (0.95, 0.95, 0.95, 0.5)  # background pane on 3D axes')\n",
      "You probably need to get an updated matplotlibrc file from\n",
      "https://github.com/matplotlib/matplotlib/blob/v3.6.2/matplotlibrc.template\n",
      "or from the matplotlib source distribution\n",
      "\n",
      "Bad key axes3d.yaxis.panecolor in file ccic_climate_record_analysis/ccic.mplstyle, line 307 ('axes3d.yaxis.panecolor:    (0.90, 0.90, 0.90, 0.5)  # background pane on 3D axes')\n",
      "You probably need to get an updated matplotlibrc file from\n",
      "https://github.com/matplotlib/matplotlib/blob/v3.6.2/matplotlibrc.template\n",
      "or from the matplotlib source distribution\n",
      "\n",
      "Bad key axes3d.zaxis.panecolor in file ccic_climate_record_analysis/ccic.mplstyle, line 308 ('axes3d.zaxis.panecolor:    (0.925, 0.925, 0.925, 0.5)  # background pane on 3D axes')\n",
      "You probably need to get an updated matplotlibrc file from\n",
      "https://github.com/matplotlib/matplotlib/blob/v3.6.2/matplotlibrc.template\n",
      "or from the matplotlib source distribution\n"
     ]
    }
   ],
   "source": [
    "plt.style.use('ccic_climate_record_analysis/ccic.mplstyle')"
   ]
  },
  {
   "cell_type": "markdown",
   "id": "26b1ed7a",
   "metadata": {},
   "source": [
    "# Interpolation/masking"
   ]
  },
  {
   "cell_type": "markdown",
   "id": "9ca8f478",
   "metadata": {},
   "source": [
    "Just a sanity check to see if all looks okay for a single day of data. Actual interpolation and masking done during time series calculation."
   ]
  },
  {
   "cell_type": "code",
   "execution_count": 4,
   "id": "e519c4ec",
   "metadata": {},
   "outputs": [],
   "source": [
    "file_path = './data/modis/ccic_modis_data_2020.nc'\n",
    "dataset = xr.open_dataset(file_path)"
   ]
  },
  {
   "cell_type": "code",
   "execution_count": 5,
   "id": "c81bfa1d",
   "metadata": {},
   "outputs": [],
   "source": [
    "latitude = dataset['lat'][:]\n",
    "longitude = dataset['lon'][:]\n",
    "data = dataset['Cloud_Fraction_Mean'][20,:,:].values\n",
    "data_filtered = np.where((data == -9999) | (data == -2147483647), np.nan, data)\n",
    "data_filtered = data_filtered.astype(float) * 0.0001"
   ]
  },
  {
   "cell_type": "code",
   "execution_count": null,
   "id": "734b0c1a",
   "metadata": {},
   "outputs": [],
   "source": [
    "data_interpolated, data_masked, _, _ = process.mask_data(data_filtered, dataset[\"lat\"][:], dataset[\"lon\"][:])"
   ]
  },
  {
   "cell_type": "code",
   "execution_count": null,
   "id": "1f6928d2",
   "metadata": {},
   "outputs": [],
   "source": [
    "fig, axes = plt.subplots(2, 2, figsize = (10,4))\n",
    "\n",
    "world = gpd.read_file(gpd.datasets.get_path('naturalearth_lowres'))\n",
    "\n",
    "extent = [longitude[0]-0.5, longitude[-1]+0.5, latitude[0]-0.5, latitude[-1]+0.5]\n",
    "\n",
    "cax = axes[0,0].imshow(data_filtered, extent=extent)\n",
    "cbar = fig.colorbar(cax)\n",
    "cbar.set_label(r'Cloud fraction')\n",
    "world.boundary.plot(ax=axes[0,0], color='black', lw=1)\n",
    "axes[0, 0].set_title(r'MODIS L3')\n",
    "\n",
    "axes[0,1].axis('off')\n",
    "\n",
    "cax1 = axes[1,0].imshow(data_interpolated, extent=extent)\n",
    "cbar1 = fig.colorbar(cax1)\n",
    "cbar1.set_label(r'Cloud fraction')\n",
    "world.boundary.plot(ax=axes[1,0], color='black', lw=1)\n",
    "axes[1, 0].set_title(r'Interpolated')\n",
    "\n",
    "cax2 = axes[1,1].imshow(data_masked, extent=extent)\n",
    "world.boundary.plot(ax=axes[1,1], color='black', lw=1)\n",
    "cbar2 = fig.colorbar(cax2)\n",
    "cbar2.set_label(r'Cloud fraction')\n",
    "axes[1, 1].set_title(r'Masked')\n",
    "\n",
    "fig.tight_layout()\n"
   ]
  },
  {
   "cell_type": "markdown",
   "id": "3eed02c3",
   "metadata": {},
   "source": [
    "# Time series"
   ]
  },
  {
   "cell_type": "code",
   "execution_count": 6,
   "id": "d0ac550d",
   "metadata": {
    "scrolled": true
   },
   "outputs": [
    {
     "name": "stdout",
     "output_type": "stream",
     "text": [
      "2019\n"
     ]
    },
    {
     "ename": "KeyboardInterrupt",
     "evalue": "",
     "output_type": "error",
     "traceback": [
      "\u001b[0;31m---------------------------------------------------------------------------\u001b[0m",
      "\u001b[0;31mKeyboardInterrupt\u001b[0m                         Traceback (most recent call last)",
      "Cell \u001b[0;32mIn[6], line 21\u001b[0m\n\u001b[1;32m     18\u001b[0m year \u001b[38;5;241m=\u001b[39m datetime\u001b[38;5;241m.\u001b[39mdatetime\u001b[38;5;241m.\u001b[39mfromtimestamp(dates_unix[\u001b[38;5;241m-\u001b[39m\u001b[38;5;241m1\u001b[39m])\u001b[38;5;241m.\u001b[39myear\n\u001b[1;32m     19\u001b[0m \u001b[38;5;28mprint\u001b[39m(year)\n\u001b[0;32m---> 21\u001b[0m CF_global_mean\u001b[38;5;241m.\u001b[39mupdate({\u001b[38;5;124mf\u001b[39m\u001b[38;5;124m'\u001b[39m\u001b[38;5;132;01m{\u001b[39;00myear\u001b[38;5;132;01m}\u001b[39;00m\u001b[38;5;124m'\u001b[39m: \u001b[43mprocess\u001b[49m\u001b[38;5;241;43m.\u001b[39;49m\u001b[43mmodis_monthly\u001b[49m\u001b[43m(\u001b[49m\u001b[43mdataset\u001b[49m\u001b[43m,\u001b[49m\u001b[43m \u001b[49m\u001b[43mlatitude\u001b[49m\u001b[43m,\u001b[49m\u001b[43m \u001b[49m\u001b[43mlongitude\u001b[49m\u001b[43m,\u001b[49m\u001b[43m \u001b[49m\u001b[38;5;124;43m'\u001b[39;49m\u001b[38;5;124;43mCloud_Fraction_Mean\u001b[39;49m\u001b[38;5;124;43m'\u001b[39;49m\u001b[43m)\u001b[49m})\n",
      "File \u001b[0;32m~/Documents/Research/PHD/Projects/CCIC/process_modis.py:140\u001b[0m, in \u001b[0;36mmodis_monthly\u001b[0;34m(dataset, latitude, longitude, variable, mask)\u001b[0m\n\u001b[1;32m    137\u001b[0m data_filtered \u001b[38;5;241m=\u001b[39m np\u001b[38;5;241m.\u001b[39mwhere((data_monthly \u001b[38;5;241m==\u001b[39m \u001b[38;5;241m-\u001b[39m\u001b[38;5;241m9999\u001b[39m) \u001b[38;5;241m|\u001b[39m (data_monthly \u001b[38;5;241m==\u001b[39m \u001b[38;5;241m-\u001b[39m\u001b[38;5;241m2147483647\u001b[39m), np\u001b[38;5;241m.\u001b[39mnan, data_monthly)\n\u001b[1;32m    138\u001b[0m \u001b[38;5;28;01mif\u001b[39;00m mask \u001b[38;5;241m==\u001b[39m \u001b[38;5;28;01mTrue\u001b[39;00m:\n\u001b[1;32m    139\u001b[0m     \u001b[38;5;66;03m# mask according to gridsat mask\u001b[39;00m\n\u001b[0;32m--> 140\u001b[0m     data_interpolated, data_masked, lon_target, lat_target \u001b[38;5;241m=\u001b[39m \u001b[43mmask_data\u001b[49m\u001b[43m(\u001b[49m\u001b[43mdata_monthly\u001b[49m\u001b[43m,\u001b[49m\u001b[43m \u001b[49m\u001b[43mlatitude\u001b[49m\u001b[43m,\u001b[49m\u001b[43m \u001b[49m\u001b[43mlongitude\u001b[49m\u001b[43m)\u001b[49m\n\u001b[1;32m    141\u001b[0m     \u001b[38;5;66;03m#data_monthly = np.ma.masked_invalid(data_masked)\u001b[39;00m\n\u001b[1;32m    142\u001b[0m     latitude \u001b[38;5;241m=\u001b[39m lat_target\n",
      "File \u001b[0;32m~/Documents/Research/PHD/Projects/CCIC/process_modis.py:166\u001b[0m, in \u001b[0;36mmask_data\u001b[0;34m(data, lat_original, lon_original)\u001b[0m\n\u001b[1;32m    164\u001b[0m data_new \u001b[38;5;241m=\u001b[39m np\u001b[38;5;241m.\u001b[39mzeros((data\u001b[38;5;241m.\u001b[39mshape[\u001b[38;5;241m0\u001b[39m], \u001b[38;5;28mlen\u001b[39m(lat_target), \u001b[38;5;28mlen\u001b[39m(lon_target)))\n\u001b[1;32m    165\u001b[0m \u001b[38;5;28;01mfor\u001b[39;00m i \u001b[38;5;129;01min\u001b[39;00m \u001b[38;5;28mrange\u001b[39m(data\u001b[38;5;241m.\u001b[39mshape[\u001b[38;5;241m0\u001b[39m]):\n\u001b[0;32m--> 166\u001b[0m     data_interpolated \u001b[38;5;241m=\u001b[39m \u001b[43mgriddata\u001b[49m\u001b[43m(\u001b[49m\u001b[43mpoints_original\u001b[49m\u001b[43m,\u001b[49m\u001b[43m \u001b[49m\u001b[43mdata\u001b[49m\u001b[43m[\u001b[49m\u001b[43mi\u001b[49m\u001b[43m]\u001b[49m\u001b[38;5;241;43m.\u001b[39;49m\u001b[43mflatten\u001b[49m\u001b[43m(\u001b[49m\u001b[43m)\u001b[49m\u001b[43m,\u001b[49m\u001b[43m \u001b[49m\u001b[43mpoints_target\u001b[49m\u001b[43m,\u001b[49m\u001b[43m \u001b[49m\u001b[43mmethod\u001b[49m\u001b[38;5;241;43m=\u001b[39;49m\u001b[38;5;124;43m'\u001b[39;49m\u001b[38;5;124;43mnearest\u001b[39;49m\u001b[38;5;124;43m'\u001b[39;49m\u001b[43m,\u001b[49m\u001b[43m \u001b[49m\u001b[43mfill_value\u001b[49m\u001b[38;5;241;43m=\u001b[39;49m\u001b[43mnp\u001b[49m\u001b[38;5;241;43m.\u001b[39;49m\u001b[43mnan\u001b[49m\u001b[43m)\u001b[49m\n\u001b[1;32m    167\u001b[0m     data_interpolated \u001b[38;5;241m=\u001b[39m data_interpolated\u001b[38;5;241m.\u001b[39mreshape(lon_grid_target\u001b[38;5;241m.\u001b[39mshape)\n\u001b[1;32m    169\u001b[0m     mask_array \u001b[38;5;241m=\u001b[39m mask_ds\u001b[38;5;241m.\u001b[39mmask\u001b[38;5;241m.\u001b[39mvalues\n",
      "File \u001b[0;32m~/mambaforge/envs/quantnn/lib/python3.9/site-packages/scipy/interpolate/_ndgriddata.py:258\u001b[0m, in \u001b[0;36mgriddata\u001b[0;34m(points, values, xi, method, fill_value, rescale)\u001b[0m\n\u001b[1;32m    256\u001b[0m \u001b[38;5;28;01melif\u001b[39;00m method \u001b[38;5;241m==\u001b[39m \u001b[38;5;124m'\u001b[39m\u001b[38;5;124mnearest\u001b[39m\u001b[38;5;124m'\u001b[39m:\n\u001b[1;32m    257\u001b[0m     ip \u001b[38;5;241m=\u001b[39m NearestNDInterpolator(points, values, rescale\u001b[38;5;241m=\u001b[39mrescale)\n\u001b[0;32m--> 258\u001b[0m     \u001b[38;5;28;01mreturn\u001b[39;00m \u001b[43mip\u001b[49m\u001b[43m(\u001b[49m\u001b[43mxi\u001b[49m\u001b[43m)\u001b[49m\n\u001b[1;32m    259\u001b[0m \u001b[38;5;28;01melif\u001b[39;00m method \u001b[38;5;241m==\u001b[39m \u001b[38;5;124m'\u001b[39m\u001b[38;5;124mlinear\u001b[39m\u001b[38;5;124m'\u001b[39m:\n\u001b[1;32m    260\u001b[0m     ip \u001b[38;5;241m=\u001b[39m LinearNDInterpolator(points, values, fill_value\u001b[38;5;241m=\u001b[39mfill_value,\n\u001b[1;32m    261\u001b[0m                               rescale\u001b[38;5;241m=\u001b[39mrescale)\n",
      "File \u001b[0;32m~/mambaforge/envs/quantnn/lib/python3.9/site-packages/scipy/interpolate/_ndgriddata.py:110\u001b[0m, in \u001b[0;36mNearestNDInterpolator.__call__\u001b[0;34m(self, *args)\u001b[0m\n\u001b[1;32m    108\u001b[0m xi \u001b[38;5;241m=\u001b[39m \u001b[38;5;28mself\u001b[39m\u001b[38;5;241m.\u001b[39m_check_call_shape(xi)\n\u001b[1;32m    109\u001b[0m xi \u001b[38;5;241m=\u001b[39m \u001b[38;5;28mself\u001b[39m\u001b[38;5;241m.\u001b[39m_scale_x(xi)\n\u001b[0;32m--> 110\u001b[0m dist, i \u001b[38;5;241m=\u001b[39m \u001b[38;5;28;43mself\u001b[39;49m\u001b[38;5;241;43m.\u001b[39;49m\u001b[43mtree\u001b[49m\u001b[38;5;241;43m.\u001b[39;49m\u001b[43mquery\u001b[49m\u001b[43m(\u001b[49m\u001b[43mxi\u001b[49m\u001b[43m)\u001b[49m\n\u001b[1;32m    111\u001b[0m \u001b[38;5;28;01mreturn\u001b[39;00m \u001b[38;5;28mself\u001b[39m\u001b[38;5;241m.\u001b[39mvalues[i]\n",
      "File \u001b[0;32m_ckdtree.pyx:827\u001b[0m, in \u001b[0;36mscipy.spatial._ckdtree.cKDTree.query\u001b[0;34m()\u001b[0m\n",
      "File \u001b[0;32m<__array_function__ internals>:179\u001b[0m, in \u001b[0;36mreshape\u001b[0;34m(*args, **kwargs)\u001b[0m\n",
      "\u001b[0;31mKeyboardInterrupt\u001b[0m: "
     ]
    }
   ],
   "source": [
    "CF_global_mean = {}\n",
    "\n",
    "directory_path = './data/modis/'\n",
    "\n",
    "for file in os.listdir(directory_path):\n",
    "    if file.endswith('.nc'):\n",
    "        file_path = os.path.join(directory_path, file)\n",
    "\n",
    "        dataset = xr.open_dataset(file_path)\n",
    "\n",
    "        latitude = dataset[\"lat\"][:]\n",
    "        longitude = dataset[\"lon\"][:]\n",
    "        \n",
    "        dates_unix = dataset[\"date\"][:]\n",
    "        dates_unix = np.where(\n",
    "        dates_unix == -9223372036854775806, 0, dates_unix\n",
    "        )\n",
    "        year = datetime.datetime.fromtimestamp(dates_unix[-1]).year\n",
    "        print(year)\n",
    "\n",
    "        CF_global_mean.update({f'{year}': process.modis_monthly(dataset, latitude, longitude, 'Cloud_Fraction_Mean')})\n"
   ]
  },
  {
   "cell_type": "code",
   "execution_count": null,
   "id": "d8d75aa1",
   "metadata": {},
   "outputs": [],
   "source": [
    "data_points = []\n",
    "for year in CF_global_mean:\n",
    "    for date in CF_global_mean[year]:\n",
    "        date_obj = datetime.datetime.strptime(f\"{year}-{int(float(date))}\", \"%Y-%m\")\n",
    "        data_points.append((date_obj, CF_global_mean[year][date]))\n",
    "\n",
    "sorted_data_points = sorted(data_points, key=lambda x: x[0])\n",
    "\n",
    "dates, values = zip(*sorted_data_points)\n",
    "\n",
    "fig, ax = plt.subplots()\n",
    "\n",
    "ax.plot(dates, values)\n",
    "\n",
    "ax.xaxis.set_major_formatter(mdates.DateFormatter('%Y-%m'))\n",
    "ax.set_xticks(dates[::12])\n",
    "ax.set_xlabel('Time')\n",
    "ax.set_ylabel('CF global mean [-]')\n",
    "ax.grid()\n"
   ]
  },
  {
   "cell_type": "code",
   "execution_count": null,
   "id": "28468aa1",
   "metadata": {},
   "outputs": [],
   "source": []
  }
 ],
 "metadata": {
  "kernelspec": {
   "display_name": "Python 3 (ipykernel)",
   "language": "python",
   "name": "python3"
  },
  "language_info": {
   "codemirror_mode": {
    "name": "ipython",
    "version": 3
   },
   "file_extension": ".py",
   "mimetype": "text/x-python",
   "name": "python",
   "nbconvert_exporter": "python",
   "pygments_lexer": "ipython3",
   "version": "3.9.16"
  }
 },
 "nbformat": 4,
 "nbformat_minor": 5
}
