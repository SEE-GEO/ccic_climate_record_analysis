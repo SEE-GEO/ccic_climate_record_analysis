{
 "cells": [
  {
   "cell_type": "markdown",
   "id": "f4ef34bc-c696-4b62-81a0-f0f50a7f6095",
   "metadata": {},
   "source": [
    "# CCIC GridSat time series\n",
    "\n",
    "This notebook computes cloud amount and TIWP time series from the CCIC GridSat record."
   ]
  },
  {
   "cell_type": "code",
   "execution_count": null,
   "id": "770f91d9-2f62-4dab-93d1-1bac069f656d",
   "metadata": {},
   "outputs": [],
   "source": [
    "from pathlib import Path\n",
    "\n",
    "import cmocean\n",
    "import matplotlib.pyplot as plt\n",
    "import numpy as np\n",
    "import xarray as xr\n",
    "\n",
    "plt.style.use(\"../ccic.mplstyle\")"
   ]
  },
  {
   "cell_type": "code",
   "execution_count": null,
   "id": "59fa974c-945d-4e56-be28-861467ede7ec",
   "metadata": {},
   "outputs": [],
   "source": [
    "DATA_PATH = Path(\"/scratch/ccic_record/data/\")\n",
    "gridsat_files = sorted(list((DATA_PATH / \"ccic\" / \"gridsat\").glob(\"*.nc\")))\n",
    "print(f\"Found {len(gridsat_files)} files.\")"
   ]
  },
  {
   "cell_type": "code",
   "execution_count": null,
   "id": "56eca60f-23a6-4e79-87c5-93200e4bd5f2",
   "metadata": {},
   "outputs": [],
   "source": [
    "mask = xr.load_dataset(\"/scratch/ccic_record/data/mask_24.nc\").mask.data"
   ]
  },
  {
   "cell_type": "markdown",
   "id": "3170f87e-097f-45b9-aa37-dddf8359b8e7",
   "metadata": {},
   "source": [
    "The code below iterates over all monthly CCIC GridSat files and calculates mean field of cloud amount (``ca``) and total ice water path (``tiwp``) as well as time series of their area-weighted means and masked means."
   ]
  },
  {
   "cell_type": "code",
   "execution_count": null,
   "id": "57bb1c7c-0b89-4633-ba6b-bba870de8617",
   "metadata": {},
   "outputs": [],
   "source": [
    "from tqdm import tqdm\n",
    "\n",
    "tiwp_sum = None\n",
    "tiwp_cnt = None\n",
    "tiwp_mean = None\n",
    "tiwp_mean_masked = None\n",
    "ca_sum = None\n",
    "ca_cnt = None\n",
    "ca_mean = None\n",
    "ca_mean_masked = None\n",
    "valid_frac = None\n",
    "valid_frac_masked = None\n",
    "time = []\n",
    "\n",
    "for path in tqdm(gridsat_files):\n",
    "    with xr.open_dataset(path) as input_data:\n",
    "\n",
    "        tiwp = input_data.tiwp.data[0]\n",
    "        ca = input_data.cloud_prob_2d.data[0]\n",
    "        time.append(input_data.month.data[0])\n",
    "        tiwp_0 = np.nan_to_num(tiwp, nan=0.0, copy=True)\n",
    "        ca_0 = np.nan_to_num(ca, nan=0.0, copy=True)\n",
    "\n",
    "        weights = np.cos(np.deg2rad(input_data.latitude.data[..., None]))\n",
    "        weights = np.broadcast_to(weights, tiwp.shape)\n",
    "        weights_sum = weights.sum()\n",
    "        weights_masked = weights * mask\n",
    "        weights_masked_sum = weights_masked.sum()\n",
    "\n",
    "        if tiwp_sum is None:\n",
    "            tiwp_sum = tiwp_0\n",
    "            tiwp_cnt = np.isfinite(tiwp).astype(\"float32\")\n",
    "            ca_sum = ca_0\n",
    "            ca_cnt = np.isfinite(ca).astype(\"float32\")\n",
    "            tiwp_mean = [(tiwp_0 * weights).sum() / (weights * np.isfinite(tiwp)).sum()]\n",
    "            tiwp_mean_masked = [\n",
    "                (tiwp_0 * weights_masked).sum()\n",
    "                / (weights_masked * np.isfinite(tiwp)).sum()\n",
    "            ]\n",
    "            ca_mean = [(ca_0 * weights).sum() / (weights * np.isfinite(ca)).sum()]\n",
    "            ca_mean_masked = [\n",
    "                (ca_0 * weights * mask).sum() / (weights_masked * np.isfinite(ca)).sum()\n",
    "            ]\n",
    "            valid_frac = [(weights * np.isfinite(ca)).sum() / weights_sum]\n",
    "            valid_frac_masked = [(weights * np.isfinite(ca)).sum() / weights_masked_sum]\n",
    "        else:\n",
    "            tiwp_sum += tiwp_0\n",
    "            tiwp_cnt += np.isfinite(tiwp).astype(\"float32\")\n",
    "            ca_sum += ca_0\n",
    "            ca_cnt += np.isfinite(ca).astype(\"float32\")\n",
    "            tiwp_mean += [\n",
    "                (tiwp_0 * weights).sum() / (weights * np.isfinite(tiwp)).sum()\n",
    "            ]\n",
    "            tiwp_mean_masked += [\n",
    "                (tiwp_0 * weights_masked).sum()\n",
    "                / (weights_masked * np.isfinite(tiwp)).sum()\n",
    "            ]\n",
    "            ca_mean += [(ca_0 * weights).sum() / (weights * np.isfinite(ca)).sum()]\n",
    "            ca_mean_masked += [\n",
    "                (ca_0 * weights * mask).sum() / (weights_masked * np.isfinite(ca)).sum()\n",
    "            ]\n",
    "            valid_frac += [(weights * np.isfinite(ca)).sum() / weights_sum]\n",
    "            valid_frac_masked += [\n",
    "                (weights * np.isfinite(ca)).sum() / weights_masked_sum\n",
    "            ]\n",
    "\n",
    "        latitude = input_data.latitude.data\n",
    "        longitude = input_data.longitude.data\n",
    "\n",
    "time = np.array(time)\n",
    "\n",
    "results = xr.Dataset(\n",
    "    {\n",
    "        \"tiwp\": ((\"latitude\", \"longitude\"), tiwp_sum / tiwp_cnt),\n",
    "        \"ca\": ((\"latitude\", \"longitude\"), ca_sum / ca_cnt),\n",
    "        \"tiwp_mean\": ((\"time\",), np.array(tiwp_mean)),\n",
    "        \"tiwp_mean_masked\": ((\"time\",), np.array(tiwp_mean_masked)),\n",
    "        \"ca_mean\": ((\"time\",), np.array(ca_mean)),\n",
    "        \"ca_mean_masked\": ((\"time\",), np.array(ca_mean_masked)),\n",
    "        \"valid_frac\": ((\"time\",), np.array(valid_frac)),\n",
    "        \"valid_frac_masked\": ((\"time\",), np.array(valid_frac_masked)),\n",
    "    }\n",
    ")"
   ]
  },
  {
   "cell_type": "code",
   "execution_count": null,
   "id": "52a37775-8473-40b4-8b45-8854741f6a96",
   "metadata": {},
   "outputs": [],
   "source": [
    "results.to_netcdf(\"/scratch/ccic_record/data/timeseries/ccic_gridsat.nc\")"
   ]
  }
 ],
 "metadata": {
  "kernelspec": {
   "display_name": "Python 3 (ipykernel)",
   "language": "python",
   "name": "python3"
  },
  "language_info": {
   "codemirror_mode": {
    "name": "ipython",
    "version": 3
   },
   "file_extension": ".py",
   "mimetype": "text/x-python",
   "name": "python",
   "nbconvert_exporter": "python",
   "pygments_lexer": "ipython3",
   "version": "3.10.13"
  }
 },
 "nbformat": 4,
 "nbformat_minor": 5
}
