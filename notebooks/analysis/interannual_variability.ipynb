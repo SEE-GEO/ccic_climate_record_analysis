{
 "cells": [
  {
   "cell_type": "markdown",
   "id": "493c75e1-18ee-4de3-b30a-888abc201de7",
   "metadata": {},
   "source": [
    "# Interannual variability \n",
    "\n",
    "\n",
    "##### Spatial maps showing the interannual variability of **total ice water path**"
   ]
  },
  {
   "cell_type": "code",
   "execution_count": 2,
   "id": "699d6b73-3dc3-4835-80c4-9a6fee5e3944",
   "metadata": {},
   "outputs": [],
   "source": [
    "from pathlib import Path \n",
    "import numpy as np \n",
    "import xarray as xr \n",
    "import matplotlib.pyplot as plt \n",
    "import matplotlib as mpl\n",
    "import datetime\n",
    "import pandas as pd \n",
    "import cartopy.crs as ccrs\n",
    "import seaborn as sns\n",
    "import cmocean as cmo\n",
    "mpl.style.use(\"ccic.mplstyle\") \n"
   ]
  },
  {
   "cell_type": "code",
   "execution_count": null,
   "id": "bbbbfbb8-0e8b-4a10-9c7c-df7a25338288",
   "metadata": {},
   "outputs": [],
   "source": []
  },
  {
   "cell_type": "code",
   "execution_count": null,
   "id": "7121d7f6-e435-4fec-8d39-049e9c28c5a5",
   "metadata": {},
   "outputs": [],
   "source": []
  },
  {
   "cell_type": "code",
   "execution_count": null,
   "id": "dab4644f-a867-4ea4-a33c-08a6d646ac33",
   "metadata": {},
   "outputs": [],
   "source": []
  },
  {
   "cell_type": "code",
   "execution_count": null,
   "id": "35f38ecc-bce0-4f7b-967a-201ef20277b1",
   "metadata": {},
   "outputs": [],
   "source": []
  },
  {
   "cell_type": "code",
   "execution_count": null,
   "id": "b8887f6c-7702-4c9c-b6f1-bac8b33c701d",
   "metadata": {},
   "outputs": [],
   "source": []
  },
  {
   "cell_type": "code",
   "execution_count": null,
   "id": "d5dffb2c-e00a-4a1b-9c6a-633b08155e85",
   "metadata": {},
   "outputs": [],
   "source": []
  },
  {
   "cell_type": "code",
   "execution_count": null,
   "id": "772fa479-b595-4724-a27a-43646f8128d2",
   "metadata": {},
   "outputs": [],
   "source": []
  }
 ],
 "metadata": {
  "kernelspec": {
   "display_name": "Python 3 (ipykernel)",
   "language": "python",
   "name": "python3"
  },
  "language_info": {
   "codemirror_mode": {
    "name": "ipython",
    "version": 3
   },
   "file_extension": ".py",
   "mimetype": "text/x-python",
   "name": "python",
   "nbconvert_exporter": "python",
   "pygments_lexer": "ipython3",
   "version": "3.10.14"
  }
 },
 "nbformat": 4,
 "nbformat_minor": 5
}
